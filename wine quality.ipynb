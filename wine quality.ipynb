{
 "cells": [
  {
   "cell_type": "code",
   "execution_count": 2,
   "id": "22aae7e4",
   "metadata": {},
   "outputs": [],
   "source": [
    "import numpy as np\n",
    "import pandas as pd\n",
    "import  matplotlib.pyplot as mlt"
   ]
  },
  {
   "cell_type": "code",
   "execution_count": 3,
   "id": "b56581fa",
   "metadata": {},
   "outputs": [],
   "source": [
    "df=pd.read_csv(\"C:/Users/knvss/OneDrive/Desktop/winequalityN.csv\")"
   ]
  },
  {
   "cell_type": "code",
   "execution_count": 4,
   "id": "737a8288",
   "metadata": {},
   "outputs": [
    {
     "name": "stdout",
     "output_type": "stream",
     "text": [
      "       type  fixed acidity  volatile acidity  citric acid  residual sugar  \\\n",
      "0     white            7.0             0.270         0.36            20.7   \n",
      "1     white            6.3             0.300         0.34             1.6   \n",
      "2     white            8.1             0.280         0.40             6.9   \n",
      "3     white            7.2             0.230         0.32             8.5   \n",
      "4     white            7.2             0.230         0.32             8.5   \n",
      "...     ...            ...               ...          ...             ...   \n",
      "6492    red            6.2             0.600         0.08             2.0   \n",
      "6493    red            5.9             0.550         0.10             2.2   \n",
      "6494    red            6.3             0.510         0.13             2.3   \n",
      "6495    red            5.9             0.645         0.12             2.0   \n",
      "6496    red            6.0             0.310         0.47             3.6   \n",
      "\n",
      "      chlorides  free sulfur dioxide  total sulfur dioxide  density    pH  \\\n",
      "0         0.045                 45.0                 170.0  1.00100  3.00   \n",
      "1         0.049                 14.0                 132.0  0.99400  3.30   \n",
      "2         0.050                 30.0                  97.0  0.99510  3.26   \n",
      "3         0.058                 47.0                 186.0  0.99560  3.19   \n",
      "4         0.058                 47.0                 186.0  0.99560  3.19   \n",
      "...         ...                  ...                   ...      ...   ...   \n",
      "6492      0.090                 32.0                  44.0  0.99490  3.45   \n",
      "6493      0.062                 39.0                  51.0  0.99512  3.52   \n",
      "6494      0.076                 29.0                  40.0  0.99574  3.42   \n",
      "6495      0.075                 32.0                  44.0  0.99547  3.57   \n",
      "6496      0.067                 18.0                  42.0  0.99549  3.39   \n",
      "\n",
      "      sulphates  alcohol  quality  \n",
      "0          0.45      8.8        6  \n",
      "1          0.49      9.5        6  \n",
      "2          0.44     10.1        6  \n",
      "3          0.40      9.9        6  \n",
      "4          0.40      9.9        6  \n",
      "...         ...      ...      ...  \n",
      "6492       0.58     10.5        5  \n",
      "6493        NaN     11.2        6  \n",
      "6494       0.75     11.0        6  \n",
      "6495       0.71     10.2        5  \n",
      "6496       0.66     11.0        6  \n",
      "\n",
      "[6497 rows x 13 columns]\n"
     ]
    }
   ],
   "source": [
    "print(df)"
   ]
  },
  {
   "cell_type": "code",
   "execution_count": 5,
   "id": "d8b25d3e",
   "metadata": {},
   "outputs": [],
   "source": [
    "x= df.iloc[:, [2,3]].values  \n",
    "y= df.iloc[:, 4].values  "
   ]
  },
  {
   "cell_type": "code",
   "execution_count": 7,
   "id": "36f00f64",
   "metadata": {},
   "outputs": [],
   "source": [
    "from sklearn.model_selection import train_test_split  \n",
    "x_train, x_test, y_train, y_test= train_test_split(x, y, test_size= 0.25, random_state=0)  "
   ]
  },
  {
   "cell_type": "code",
   "execution_count": 8,
   "id": "b383022f",
   "metadata": {},
   "outputs": [],
   "source": [
    "from sklearn.preprocessing import StandardScaler    \n",
    "st_x= StandardScaler()    \n",
    "x_train= st_x.fit_transform(x_train)    \n",
    "x_test= st_x.transform(x_test)       "
   ]
  },
  {
   "cell_type": "code",
   "execution_count": 9,
   "id": "884164b3",
   "metadata": {},
   "outputs": [
    {
     "name": "stdout",
     "output_type": "stream",
     "text": [
      "[[0.27  0.36 ]\n",
      " [0.3   0.34 ]\n",
      " [0.28  0.4  ]\n",
      " ...\n",
      " [0.51  0.13 ]\n",
      " [0.645 0.12 ]\n",
      " [0.31  0.47 ]]\n"
     ]
    }
   ],
   "source": [
    "print(x)"
   ]
  },
  {
   "cell_type": "code",
   "execution_count": 10,
   "id": "db8167d6",
   "metadata": {},
   "outputs": [
    {
     "name": "stdout",
     "output_type": "stream",
     "text": [
      "[20.7  1.6  6.9 ...  2.3  2.   3.6]\n"
     ]
    }
   ],
   "source": [
    "print(y)"
   ]
  },
  {
   "cell_type": "code",
   "execution_count": 11,
   "id": "54aaea61",
   "metadata": {},
   "outputs": [
    {
     "name": "stdout",
     "output_type": "stream",
     "text": [
      "[[ 1.53658158e-03 -4.01597829e-01]\n",
      " [ 4.82282973e-01  2.93510919e+00]\n",
      " [ 1.14330926e+00 -1.93092188e+00]\n",
      " ...\n",
      " [-5.85567173e-02 -2.62568370e-01]\n",
      " [-4.79209809e-01  8.50052783e-02]\n",
      " [ 1.02312266e+00  1.54520008e-01]]\n"
     ]
    }
   ],
   "source": [
    "print(x_train)"
   ]
  },
  {
   "cell_type": "code",
   "execution_count": 13,
   "id": "bca4a782",
   "metadata": {},
   "outputs": [
    {
     "name": "stdout",
     "output_type": "stream",
     "text": [
      "[[ 0.24190978  1.33627041]\n",
      " [ 0.72265617 -0.05402418]\n",
      " [-0.8397696   0.64112312]\n",
      " ...\n",
      " [-0.35902321  0.64112312]\n",
      " [-0.8397696   0.29354947]\n",
      " [ 1.32358916 -1.65286296]]\n"
     ]
    }
   ],
   "source": [
    "print(x_test)"
   ]
  },
  {
   "cell_type": "code",
   "execution_count": 4,
   "id": "4bb22020",
   "metadata": {},
   "outputs": [
    {
     "ename": "NameError",
     "evalue": "name 'np' is not defined",
     "output_type": "error",
     "traceback": [
      "\u001b[1;31m---------------------------------------------------------------------------\u001b[0m",
      "\u001b[1;31mNameError\u001b[0m                                 Traceback (most recent call last)",
      "\u001b[1;32m~\\AppData\\Local\\Temp\\ipykernel_26928\\3151675013.py\u001b[0m in \u001b[0;36m<module>\u001b[1;34m\u001b[0m\n\u001b[1;32m----> 1\u001b[1;33m \u001b[0mnp\u001b[0m\u001b[1;33m.\u001b[0m\u001b[0munique\u001b[0m\u001b[1;33m(\u001b[0m\u001b[0mdf\u001b[0m\u001b[1;33m.\u001b[0m\u001b[0mquality\u001b[0m\u001b[1;33m.\u001b[0m\u001b[0mvalues\u001b[0m\u001b[1;33m.\u001b[0m\u001b[0mtolist\u001b[0m\u001b[1;33m(\u001b[0m\u001b[1;33m)\u001b[0m\u001b[1;33m)\u001b[0m\u001b[1;33m\u001b[0m\u001b[1;33m\u001b[0m\u001b[0m\n\u001b[0m",
      "\u001b[1;31mNameError\u001b[0m: name 'np' is not defined"
     ]
    }
   ],
   "source": [
    "np.unique(df.quality.values.tolist())\n"
   ]
  },
  {
   "cell_type": "code",
   "execution_count": null,
   "id": "b209b04c",
   "metadata": {},
   "outputs": [],
   "source": [
    "\n",
    "    "
   ]
  },
  {
   "cell_type": "code",
   "execution_count": null,
   "id": "ce69a01c",
   "metadata": {},
   "outputs": [],
   "source": []
  }
 ],
 "metadata": {
  "kernelspec": {
   "display_name": "Python 3 (ipykernel)",
   "language": "python",
   "name": "python3"
  },
  "language_info": {
   "codemirror_mode": {
    "name": "ipython",
    "version": 3
   },
   "file_extension": ".py",
   "mimetype": "text/x-python",
   "name": "python",
   "nbconvert_exporter": "python",
   "pygments_lexer": "ipython3",
   "version": "3.9.13"
  }
 },
 "nbformat": 4,
 "nbformat_minor": 5
}
